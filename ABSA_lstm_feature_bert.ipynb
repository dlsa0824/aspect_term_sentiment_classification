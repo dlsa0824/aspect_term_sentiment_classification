{
 "cells": [
  {
   "cell_type": "markdown",
   "metadata": {},
   "source": [
    "## 先跑LSTM抓取feature(可能直接放一個positive、negative、neutral的字)，再放到bert裡面去做分類 ---> 失敗(效果不好)"
   ]
  },
  {
   "cell_type": "code",
   "execution_count": 1,
   "metadata": {},
   "outputs": [],
   "source": [
    "import numpy as np\n",
    "import pandas as pd\n",
    "from tqdm import tqdm\n",
    "import re"
   ]
  },
  {
   "cell_type": "markdown",
   "metadata": {},
   "source": [
    "### 對處理好的laptop、restaurant的train、test資料作前處理"
   ]
  },
  {
   "cell_type": "code",
   "execution_count": 2,
   "metadata": {},
   "outputs": [],
   "source": [
    "#把dataframe裡的text切成text左邊跟右邊並做一些處理的function\n",
    "def split_text(df):\n",
    "    df['left_text'] = 'N/A'\n",
    "    df['right_text'] = 'N/A'\n",
    "    \n",
    "    for i in tqdm(range(len(df))):\n",
    "        text = df.loc[i, 'text']\n",
    "        aspect = df.loc[i, 'aspect']\n",
    "        text_split = text.split(aspect) # 根據aspect切割text左右邊\n",
    "        \n",
    "        left_text = text_split[0]+aspect\n",
    "        right_text = aspect+text_split[1]\n",
    "        left_text = left_text.lower() # 把字串變成小寫\n",
    "        right_text = right_text.lower()\n",
    "        left_text = re.sub('-', ' ', left_text)\n",
    "        right_text = re.sub('-', ' ', right_text)\n",
    "        left_text = re.sub('[.,!\"()#%&/:?~]', '', left_text) # 把字串中的一些符號刪除\n",
    "        right_text = re.sub('[.,!\"()#%&/:?~]', '', right_text)\n",
    "        \n",
    "        df.loc[i,'left_text'] = left_text\n",
    "        df.loc[i,'right_text'] = right_text\n",
    "        df.loc[i, 'left_right_text'] = left_text +' '+ right_text # 用來文字encoding\n",
    "        \n",
    "    return df"
   ]
  },
  {
   "cell_type": "code",
   "execution_count": 3,
   "metadata": {},
   "outputs": [
    {
     "name": "stderr",
     "output_type": "stream",
     "text": [
      "100%|██████████| 7673/7673 [00:02<00:00, 2785.33it/s]"
     ]
    },
    {
     "name": "stdout",
     "output_type": "stream",
     "text": [
      "訓練資料集: 5915\n",
      "測試資料集: 1758\n",
      "所有資料集: 7673\n"
     ]
    },
    {
     "name": "stderr",
     "output_type": "stream",
     "text": [
      "\n"
     ]
    },
    {
     "data": {
      "text/html": [
       "<div>\n",
       "<style scoped>\n",
       "    .dataframe tbody tr th:only-of-type {\n",
       "        vertical-align: middle;\n",
       "    }\n",
       "\n",
       "    .dataframe tbody tr th {\n",
       "        vertical-align: top;\n",
       "    }\n",
       "\n",
       "    .dataframe thead th {\n",
       "        text-align: right;\n",
       "    }\n",
       "</style>\n",
       "<table border=\"1\" class=\"dataframe\">\n",
       "  <thead>\n",
       "    <tr style=\"text-align: right;\">\n",
       "      <th></th>\n",
       "      <th>text</th>\n",
       "      <th>aspect</th>\n",
       "      <th>polarity</th>\n",
       "      <th>left_text</th>\n",
       "      <th>right_text</th>\n",
       "      <th>left_right_text</th>\n",
       "    </tr>\n",
       "  </thead>\n",
       "  <tbody>\n",
       "    <tr>\n",
       "      <th>0</th>\n",
       "      <td>I charge it at night and skip taking the cord ...</td>\n",
       "      <td>cord</td>\n",
       "      <td>neutral</td>\n",
       "      <td>i charge it at night and skip taking the cord</td>\n",
       "      <td>cord with me because of the good battery life</td>\n",
       "      <td>i charge it at night and skip taking the cord ...</td>\n",
       "    </tr>\n",
       "    <tr>\n",
       "      <th>1</th>\n",
       "      <td>I charge it at night and skip taking the cord ...</td>\n",
       "      <td>battery life</td>\n",
       "      <td>positive</td>\n",
       "      <td>i charge it at night and skip taking the cord ...</td>\n",
       "      <td>battery life</td>\n",
       "      <td>i charge it at night and skip taking the cord ...</td>\n",
       "    </tr>\n",
       "    <tr>\n",
       "      <th>2</th>\n",
       "      <td>The tech guy then said the service center does...</td>\n",
       "      <td>service center</td>\n",
       "      <td>negative</td>\n",
       "      <td>the tech guy then said the service center</td>\n",
       "      <td>service center does not do 1 to 1 exchange and...</td>\n",
       "      <td>the tech guy then said the service center serv...</td>\n",
       "    </tr>\n",
       "    <tr>\n",
       "      <th>3</th>\n",
       "      <td>The tech guy then said the service center does...</td>\n",
       "      <td>\"sales\" team</td>\n",
       "      <td>negative</td>\n",
       "      <td>the tech guy then said the service center does...</td>\n",
       "      <td>sales team which is the retail shop which i bo...</td>\n",
       "      <td>the tech guy then said the service center does...</td>\n",
       "    </tr>\n",
       "    <tr>\n",
       "      <th>4</th>\n",
       "      <td>The tech guy then said the service center does...</td>\n",
       "      <td>tech guy</td>\n",
       "      <td>neutral</td>\n",
       "      <td>the tech guy</td>\n",
       "      <td>tech guy then said the service center does not...</td>\n",
       "      <td>the tech guy tech guy then said the service ce...</td>\n",
       "    </tr>\n",
       "    <tr>\n",
       "      <th>5</th>\n",
       "      <td>it is of high quality, has a killer GUI, is ex...</td>\n",
       "      <td>quality</td>\n",
       "      <td>positive</td>\n",
       "      <td>it is of high quality</td>\n",
       "      <td>quality has a killer gui is extremely stable i...</td>\n",
       "      <td>it is of high quality quality has a killer gui...</td>\n",
       "    </tr>\n",
       "    <tr>\n",
       "      <th>6</th>\n",
       "      <td>it is of high quality, has a killer GUI, is ex...</td>\n",
       "      <td>GUI</td>\n",
       "      <td>positive</td>\n",
       "      <td>it is of high quality has a killer gui</td>\n",
       "      <td>gui is extremely stable is highly expandable i...</td>\n",
       "      <td>it is of high quality has a killer gui gui is ...</td>\n",
       "    </tr>\n",
       "    <tr>\n",
       "      <th>7</th>\n",
       "      <td>it is of high quality, has a killer GUI, is ex...</td>\n",
       "      <td>applications</td>\n",
       "      <td>positive</td>\n",
       "      <td>it is of high quality has a killer gui is extr...</td>\n",
       "      <td>applications is easy to use and is absolutely ...</td>\n",
       "      <td>it is of high quality has a killer gui is extr...</td>\n",
       "    </tr>\n",
       "    <tr>\n",
       "      <th>8</th>\n",
       "      <td>it is of high quality, has a killer GUI, is ex...</td>\n",
       "      <td>use</td>\n",
       "      <td>positive</td>\n",
       "      <td>it is of high quality has a killer gui is extr...</td>\n",
       "      <td>use and is absolutely gorgeous</td>\n",
       "      <td>it is of high quality has a killer gui is extr...</td>\n",
       "    </tr>\n",
       "    <tr>\n",
       "      <th>9</th>\n",
       "      <td>Easy to start up and does not overheat as much...</td>\n",
       "      <td>start up</td>\n",
       "      <td>positive</td>\n",
       "      <td>easy to start up</td>\n",
       "      <td>start up and does not overheat as much as othe...</td>\n",
       "      <td>easy to start up start up and does not overhea...</td>\n",
       "    </tr>\n",
       "  </tbody>\n",
       "</table>\n",
       "</div>"
      ],
      "text/plain": [
       "                                                text          aspect  \\\n",
       "0  I charge it at night and skip taking the cord ...            cord   \n",
       "1  I charge it at night and skip taking the cord ...    battery life   \n",
       "2  The tech guy then said the service center does...  service center   \n",
       "3  The tech guy then said the service center does...    \"sales\" team   \n",
       "4  The tech guy then said the service center does...        tech guy   \n",
       "5  it is of high quality, has a killer GUI, is ex...         quality   \n",
       "6  it is of high quality, has a killer GUI, is ex...             GUI   \n",
       "7  it is of high quality, has a killer GUI, is ex...    applications   \n",
       "8  it is of high quality, has a killer GUI, is ex...             use   \n",
       "9  Easy to start up and does not overheat as much...        start up   \n",
       "\n",
       "   polarity                                          left_text  \\\n",
       "0   neutral      i charge it at night and skip taking the cord   \n",
       "1  positive  i charge it at night and skip taking the cord ...   \n",
       "2  negative          the tech guy then said the service center   \n",
       "3  negative  the tech guy then said the service center does...   \n",
       "4   neutral                                       the tech guy   \n",
       "5  positive                              it is of high quality   \n",
       "6  positive             it is of high quality has a killer gui   \n",
       "7  positive  it is of high quality has a killer gui is extr...   \n",
       "8  positive  it is of high quality has a killer gui is extr...   \n",
       "9  positive                                   easy to start up   \n",
       "\n",
       "                                          right_text  \\\n",
       "0      cord with me because of the good battery life   \n",
       "1                                       battery life   \n",
       "2  service center does not do 1 to 1 exchange and...   \n",
       "3  sales team which is the retail shop which i bo...   \n",
       "4  tech guy then said the service center does not...   \n",
       "5  quality has a killer gui is extremely stable i...   \n",
       "6  gui is extremely stable is highly expandable i...   \n",
       "7  applications is easy to use and is absolutely ...   \n",
       "8                     use and is absolutely gorgeous   \n",
       "9  start up and does not overheat as much as othe...   \n",
       "\n",
       "                                     left_right_text  \n",
       "0  i charge it at night and skip taking the cord ...  \n",
       "1  i charge it at night and skip taking the cord ...  \n",
       "2  the tech guy then said the service center serv...  \n",
       "3  the tech guy then said the service center does...  \n",
       "4  the tech guy tech guy then said the service ce...  \n",
       "5  it is of high quality quality has a killer gui...  \n",
       "6  it is of high quality has a killer gui gui is ...  \n",
       "7  it is of high quality has a killer gui is extr...  \n",
       "8  it is of high quality has a killer gui is extr...  \n",
       "9  easy to start up start up and does not overhea...  "
      ]
     },
     "execution_count": 3,
     "metadata": {},
     "output_type": "execute_result"
    }
   ],
   "source": [
    "laptop_train = pd.read_csv('dataset/laptop_train_processed.csv', encoding='utf-8')\n",
    "restaurant_train = pd.read_csv('dataset/restaurant_train_processed.csv', encoding='utf-8')\n",
    "laptop_test = pd.read_csv('dataset/laptop_test_processed.csv', encoding='utf-8')\n",
    "restaurant_test = pd.read_csv('dataset/restaurant_test_processed.csv', encoding='utf-8')\n",
    "\n",
    "# 把train的資料串在一起\n",
    "train_data = laptop_train.append(restaurant_train)\n",
    "train_data = train_data.reset_index(drop=True)\n",
    "\n",
    "#把test的資料串在一起\n",
    "test_data = laptop_test.append(restaurant_test)\n",
    "test_data = test_data.reset_index(drop=True)\n",
    "\n",
    "#把train、test資料串在一起\n",
    "data = train_data.append(test_data)\n",
    "data = data.reset_index(drop=True)\n",
    "\n",
    "# data切割text\n",
    "data = split_text(data)\n",
    "\n",
    "print('訓練資料集:', len(train_data))\n",
    "print('測試資料集:', len(test_data))\n",
    "print('所有資料集:', len(data))\n",
    "data.head(10)"
   ]
  },
  {
   "cell_type": "code",
   "execution_count": 4,
   "metadata": {},
   "outputs": [
    {
     "name": "stdout",
     "output_type": "stream",
     "text": [
      "The tech guy then said the service center does not do 1-to-1 exchange and I have to direct my concern to the \"sales\" team, which is the retail shop which I bought my netbook from.\n",
      "\n",
      "the tech guy then said the service center does not do 1 to 1 exchange and i have to direct my concern to the sales team\n",
      "\n",
      "sales team which is the retail shop which i bought my netbook from\n",
      "\n",
      "the tech guy then said the service center does not do 1 to 1 exchange and i have to direct my concern to the sales team sales team which is the retail shop which i bought my netbook from\n"
     ]
    }
   ],
   "source": [
    "# print一個出來看看\n",
    "n = 3\n",
    "print(data.loc[n, 'text'])\n",
    "print()\n",
    "print(data.loc[n, 'left_text'])\n",
    "print()\n",
    "print(data.loc[n, 'right_text'])\n",
    "print()\n",
    "print(data.loc[n, 'left_right_text'])"
   ]
  },
  {
   "cell_type": "code",
   "execution_count": 5,
   "metadata": {},
   "outputs": [
    {
     "data": {
      "text/html": [
       "<div>\n",
       "<style scoped>\n",
       "    .dataframe tbody tr th:only-of-type {\n",
       "        vertical-align: middle;\n",
       "    }\n",
       "\n",
       "    .dataframe tbody tr th {\n",
       "        vertical-align: top;\n",
       "    }\n",
       "\n",
       "    .dataframe thead th {\n",
       "        text-align: right;\n",
       "    }\n",
       "</style>\n",
       "<table border=\"1\" class=\"dataframe\">\n",
       "  <thead>\n",
       "    <tr style=\"text-align: right;\">\n",
       "      <th></th>\n",
       "      <th>text</th>\n",
       "      <th>aspect</th>\n",
       "      <th>polarity</th>\n",
       "      <th>left_text</th>\n",
       "      <th>right_text</th>\n",
       "      <th>left_right_text</th>\n",
       "      <th>label</th>\n",
       "    </tr>\n",
       "  </thead>\n",
       "  <tbody>\n",
       "    <tr>\n",
       "      <th>0</th>\n",
       "      <td>I charge it at night and skip taking the cord ...</td>\n",
       "      <td>cord</td>\n",
       "      <td>neutral</td>\n",
       "      <td>i charge it at night and skip taking the cord</td>\n",
       "      <td>cord with me because of the good battery life</td>\n",
       "      <td>i charge it at night and skip taking the cord ...</td>\n",
       "      <td>1</td>\n",
       "    </tr>\n",
       "    <tr>\n",
       "      <th>1</th>\n",
       "      <td>I charge it at night and skip taking the cord ...</td>\n",
       "      <td>battery life</td>\n",
       "      <td>positive</td>\n",
       "      <td>i charge it at night and skip taking the cord ...</td>\n",
       "      <td>battery life</td>\n",
       "      <td>i charge it at night and skip taking the cord ...</td>\n",
       "      <td>2</td>\n",
       "    </tr>\n",
       "    <tr>\n",
       "      <th>2</th>\n",
       "      <td>The tech guy then said the service center does...</td>\n",
       "      <td>service center</td>\n",
       "      <td>negative</td>\n",
       "      <td>the tech guy then said the service center</td>\n",
       "      <td>service center does not do 1 to 1 exchange and...</td>\n",
       "      <td>the tech guy then said the service center serv...</td>\n",
       "      <td>0</td>\n",
       "    </tr>\n",
       "    <tr>\n",
       "      <th>3</th>\n",
       "      <td>The tech guy then said the service center does...</td>\n",
       "      <td>\"sales\" team</td>\n",
       "      <td>negative</td>\n",
       "      <td>the tech guy then said the service center does...</td>\n",
       "      <td>sales team which is the retail shop which i bo...</td>\n",
       "      <td>the tech guy then said the service center does...</td>\n",
       "      <td>0</td>\n",
       "    </tr>\n",
       "    <tr>\n",
       "      <th>4</th>\n",
       "      <td>The tech guy then said the service center does...</td>\n",
       "      <td>tech guy</td>\n",
       "      <td>neutral</td>\n",
       "      <td>the tech guy</td>\n",
       "      <td>tech guy then said the service center does not...</td>\n",
       "      <td>the tech guy tech guy then said the service ce...</td>\n",
       "      <td>1</td>\n",
       "    </tr>\n",
       "    <tr>\n",
       "      <th>5</th>\n",
       "      <td>it is of high quality, has a killer GUI, is ex...</td>\n",
       "      <td>quality</td>\n",
       "      <td>positive</td>\n",
       "      <td>it is of high quality</td>\n",
       "      <td>quality has a killer gui is extremely stable i...</td>\n",
       "      <td>it is of high quality quality has a killer gui...</td>\n",
       "      <td>2</td>\n",
       "    </tr>\n",
       "    <tr>\n",
       "      <th>6</th>\n",
       "      <td>it is of high quality, has a killer GUI, is ex...</td>\n",
       "      <td>GUI</td>\n",
       "      <td>positive</td>\n",
       "      <td>it is of high quality has a killer gui</td>\n",
       "      <td>gui is extremely stable is highly expandable i...</td>\n",
       "      <td>it is of high quality has a killer gui gui is ...</td>\n",
       "      <td>2</td>\n",
       "    </tr>\n",
       "    <tr>\n",
       "      <th>7</th>\n",
       "      <td>it is of high quality, has a killer GUI, is ex...</td>\n",
       "      <td>applications</td>\n",
       "      <td>positive</td>\n",
       "      <td>it is of high quality has a killer gui is extr...</td>\n",
       "      <td>applications is easy to use and is absolutely ...</td>\n",
       "      <td>it is of high quality has a killer gui is extr...</td>\n",
       "      <td>2</td>\n",
       "    </tr>\n",
       "    <tr>\n",
       "      <th>8</th>\n",
       "      <td>it is of high quality, has a killer GUI, is ex...</td>\n",
       "      <td>use</td>\n",
       "      <td>positive</td>\n",
       "      <td>it is of high quality has a killer gui is extr...</td>\n",
       "      <td>use and is absolutely gorgeous</td>\n",
       "      <td>it is of high quality has a killer gui is extr...</td>\n",
       "      <td>2</td>\n",
       "    </tr>\n",
       "    <tr>\n",
       "      <th>9</th>\n",
       "      <td>Easy to start up and does not overheat as much...</td>\n",
       "      <td>start up</td>\n",
       "      <td>positive</td>\n",
       "      <td>easy to start up</td>\n",
       "      <td>start up and does not overheat as much as othe...</td>\n",
       "      <td>easy to start up start up and does not overhea...</td>\n",
       "      <td>2</td>\n",
       "    </tr>\n",
       "  </tbody>\n",
       "</table>\n",
       "</div>"
      ],
      "text/plain": [
       "                                                text          aspect  \\\n",
       "0  I charge it at night and skip taking the cord ...            cord   \n",
       "1  I charge it at night and skip taking the cord ...    battery life   \n",
       "2  The tech guy then said the service center does...  service center   \n",
       "3  The tech guy then said the service center does...    \"sales\" team   \n",
       "4  The tech guy then said the service center does...        tech guy   \n",
       "5  it is of high quality, has a killer GUI, is ex...         quality   \n",
       "6  it is of high quality, has a killer GUI, is ex...             GUI   \n",
       "7  it is of high quality, has a killer GUI, is ex...    applications   \n",
       "8  it is of high quality, has a killer GUI, is ex...             use   \n",
       "9  Easy to start up and does not overheat as much...        start up   \n",
       "\n",
       "   polarity                                          left_text  \\\n",
       "0   neutral      i charge it at night and skip taking the cord   \n",
       "1  positive  i charge it at night and skip taking the cord ...   \n",
       "2  negative          the tech guy then said the service center   \n",
       "3  negative  the tech guy then said the service center does...   \n",
       "4   neutral                                       the tech guy   \n",
       "5  positive                              it is of high quality   \n",
       "6  positive             it is of high quality has a killer gui   \n",
       "7  positive  it is of high quality has a killer gui is extr...   \n",
       "8  positive  it is of high quality has a killer gui is extr...   \n",
       "9  positive                                   easy to start up   \n",
       "\n",
       "                                          right_text  \\\n",
       "0      cord with me because of the good battery life   \n",
       "1                                       battery life   \n",
       "2  service center does not do 1 to 1 exchange and...   \n",
       "3  sales team which is the retail shop which i bo...   \n",
       "4  tech guy then said the service center does not...   \n",
       "5  quality has a killer gui is extremely stable i...   \n",
       "6  gui is extremely stable is highly expandable i...   \n",
       "7  applications is easy to use and is absolutely ...   \n",
       "8                     use and is absolutely gorgeous   \n",
       "9  start up and does not overheat as much as othe...   \n",
       "\n",
       "                                     left_right_text  label  \n",
       "0  i charge it at night and skip taking the cord ...      1  \n",
       "1  i charge it at night and skip taking the cord ...      2  \n",
       "2  the tech guy then said the service center serv...      0  \n",
       "3  the tech guy then said the service center does...      0  \n",
       "4  the tech guy tech guy then said the service ce...      1  \n",
       "5  it is of high quality quality has a killer gui...      2  \n",
       "6  it is of high quality has a killer gui gui is ...      2  \n",
       "7  it is of high quality has a killer gui is extr...      2  \n",
       "8  it is of high quality has a killer gui is extr...      2  \n",
       "9  easy to start up start up and does not overhea...      2  "
      ]
     },
     "execution_count": 5,
     "metadata": {},
     "output_type": "execute_result"
    }
   ],
   "source": [
    "# 把文字Label變成數字label\n",
    "data.loc[data['polarity'] == 'positive', 'label'] = 2\n",
    "data.loc[data['polarity'] == 'neutral', 'label'] = 1\n",
    "data.loc[data['polarity'] == 'negative', 'label'] = 0\n",
    "data['label'] = data['label'].astype(int)\n",
    "\n",
    "data.head(10)"
   ]
  },
  {
   "cell_type": "code",
   "execution_count": 6,
   "metadata": {},
   "outputs": [
    {
     "name": "stdout",
     "output_type": "stream",
     "text": [
      "left_text與right_text最多的字數: 72\n"
     ]
    }
   ],
   "source": [
    "#找出left_text跟right_text裡面最多是多少字\n",
    "max_count = 0\n",
    "for i in range(len(data)):\n",
    "    left_text_word_count = len(data.loc[i,'left_text'].split())\n",
    "    right_text_word_count = len(data.loc[i,'right_text'].split())\n",
    "    big_count = max(left_text_word_count, right_text_word_count)\n",
    "    if big_count>max_count:\n",
    "        max_count = big_count\n",
    "print('left_text與right_text最多的字數:', max_count)"
   ]
  },
  {
   "cell_type": "markdown",
   "metadata": {},
   "source": [
    "### 對文字做encoding"
   ]
  },
  {
   "cell_type": "code",
   "execution_count": 7,
   "metadata": {},
   "outputs": [
    {
     "name": "stderr",
     "output_type": "stream",
     "text": [
      "Using TensorFlow backend.\n"
     ]
    }
   ],
   "source": [
    "from sklearn import metrics\n",
    "from sklearn.preprocessing import LabelEncoder\n",
    "from keras.preprocessing.text import Tokenizer"
   ]
  },
  {
   "cell_type": "code",
   "execution_count": 8,
   "metadata": {},
   "outputs": [],
   "source": [
    "max_words = 7000 # 最大的字數\n",
    "max_seq_length = 80 # 句子最長長度\n",
    "embedding_dim = 300 # 每個字維度"
   ]
  },
  {
   "cell_type": "code",
   "execution_count": 9,
   "metadata": {},
   "outputs": [
    {
     "name": "stdout",
     "output_type": "stream",
     "text": [
      "Found 6557 unique tokens.\n"
     ]
    }
   ],
   "source": [
    "# 把字變成token\n",
    "tokenizer = Tokenizer(num_words = max_words)\n",
    "tokenizer.fit_on_texts(data['left_right_text'].to_numpy())\n",
    "\n",
    "word_index = tokenizer.word_index\n",
    "print('Found %s unique tokens.' % len(word_index))\n",
    "# word_index就是根據left_right_text內容彙整出來的切字跟代表那個字的token number (每個字的dict)"
   ]
  },
  {
   "cell_type": "code",
   "execution_count": 10,
   "metadata": {},
   "outputs": [
    {
     "name": "stdout",
     "output_type": "stream",
     "text": [
      "the : 1\n",
      "and : 2\n",
      "a : 3\n",
      "to : 4\n",
      "is : 5\n",
      "i : 6\n",
      "of : 7\n",
      "for : 8\n",
      "food : 9\n",
      "it : 10\n"
     ]
    }
   ],
   "source": [
    "# 檢查word_index(dictionary)裡面的東西，前面是字，後面是token\n",
    "for x in list(word_index)[0:10]:\n",
    "    print (x, ':', word_index[x])"
   ]
  },
  {
   "cell_type": "code",
   "execution_count": 11,
   "metadata": {},
   "outputs": [
    {
     "name": "stdout",
     "output_type": "stream",
     "text": [
      "easy to start up\n",
      "start up and does not overheat as much as other laptops\n",
      "[119, 4, 588, 52]\n",
      "[588, 52, 2, 213, 22, 5291, 30, 125, 30, 86, 509]\n",
      "<class 'list'>\n",
      "right text 倒過來\n",
      "[119, 4, 588, 52]\n",
      "[509, 86, 30, 125, 30, 5291, 22, 213, 2, 52, 588]\n",
      "<class 'list'>\n"
     ]
    }
   ],
   "source": [
    "# 檢查其中一項字串的token\n",
    "n = 9 # index number\n",
    "left_text = data['left_text'].to_numpy() # 轉成向量\n",
    "right_text = data['right_text'].to_numpy()\n",
    "left_text_seq = tokenizer.texts_to_sequences(left_text)\n",
    "right_text_seq = tokenizer.texts_to_sequences(right_text)\n",
    "print(data.loc[n, 'left_text'])\n",
    "print(data.loc[n, 'right_text'])\n",
    "print(left_text_seq[n])\n",
    "print(right_text_seq[n])\n",
    "print(type(right_text_seq))\n",
    "# 把右邊的字串token倒過來，因為要從後面讀到前面\n",
    "print('right text 倒過來')\n",
    "for i in range(len(right_text_seq)):\n",
    "    right_text_seq[i] = right_text_seq[i][::-1]\n",
    "print(left_text_seq[n])\n",
    "print(right_text_seq[n])\n",
    "print(type(right_text_seq))"
   ]
  },
  {
   "cell_type": "code",
   "execution_count": 12,
   "metadata": {},
   "outputs": [
    {
     "name": "stdout",
     "output_type": "stream",
     "text": [
      "[119   4 588  52   0   0   0   0   0   0   0   0   0   0   0   0   0   0\n",
      "   0   0   0   0   0   0   0   0   0   0   0   0   0   0   0   0   0   0\n",
      "   0   0   0   0   0   0   0   0   0   0   0   0   0   0   0   0   0   0\n",
      "   0   0   0   0   0   0   0   0   0   0   0   0   0   0   0   0   0   0\n",
      "   0   0   0   0   0   0   0   0]\n",
      "[ 509   86   30  125   30 5291   22  213    2   52  588    0    0    0\n",
      "    0    0    0    0    0    0    0    0    0    0    0    0    0    0\n",
      "    0    0    0    0    0    0    0    0    0    0    0    0    0    0\n",
      "    0    0    0    0    0    0    0    0    0    0    0    0    0    0\n",
      "    0    0    0    0    0    0    0    0    0    0    0    0    0    0\n",
      "    0    0    0    0    0    0    0    0    0    0]\n"
     ]
    }
   ],
   "source": [
    "# token sequence 後面補0的方法\n",
    "def text_seq_padding(text_seq):\n",
    "    if len(text_seq) < max_seq_length:\n",
    "        n = max_seq_length - len(text_seq)\n",
    "        text_seq = np.pad(text_seq, (0, n), mode ='constant', constant_values=(0)) # array右邊append n 個 0\n",
    "    return text_seq\n",
    "# 把每個left_text_seq，right_text_seq padding到同樣的長度 (後面補0)\n",
    "left_text_seq = [text_seq_padding(i) for i in left_text_seq] # 必須要 [ ] 輸出是list\n",
    "left_text_seq = np.array(left_text_seq)\n",
    "\n",
    "right_text_seq = [text_seq_padding(i) for i in right_text_seq]\n",
    "right_text_seq = np.array(right_text_seq)\n",
    "\n",
    "# n = 0 # index number\n",
    "print(left_text_seq[n])\n",
    "print(right_text_seq[n])"
   ]
  },
  {
   "cell_type": "markdown",
   "metadata": {},
   "source": [
    "### 使用預先處理的詞向量 (crawl 300 dim)\n",
    "#### https://fasttext.cc/docs/en/english-vectors.html"
   ]
  },
  {
   "cell_type": "code",
   "execution_count": 13,
   "metadata": {},
   "outputs": [
    {
     "name": "stdout",
     "output_type": "stream",
     "text": [
      "<class 'numpy.ndarray'>\n",
      "(6558, 300)\n",
      "[[ 0.          0.          0.         ...  0.          0.\n",
      "   0.        ]\n",
      " [ 0.0231      0.017       0.0157     ...  0.0744     -0.1118\n",
      "   0.0963    ]\n",
      " [-0.1081      0.0191      0.0354     ...  0.1104      0.0475\n",
      "  -0.0599    ]\n",
      " ...\n",
      " [ 0.16580001 -0.0169     -0.4138     ...  0.0933     -0.1168\n",
      "  -0.1777    ]\n",
      " [-0.1179      0.0726     -0.005      ...  0.2079      0.0322\n",
      "  -0.26879999]\n",
      " [ 0.24439999  0.1206      0.1123     ... -0.147      -0.0186\n",
      "  -0.3204    ]]\n"
     ]
    }
   ],
   "source": [
    "# 把embedding_matrix load 近來\n",
    "embedding_matrix = np.load('dataset/embedding_matrix.npy')\n",
    "print(type(embedding_matrix))\n",
    "print(embedding_matrix.shape)\n",
    "print(embedding_matrix)"
   ]
  },
  {
   "cell_type": "markdown",
   "metadata": {},
   "source": [
    "### 確認資料、並切割成train、test"
   ]
  },
  {
   "cell_type": "code",
   "execution_count": 14,
   "metadata": {},
   "outputs": [
    {
     "name": "stdout",
     "output_type": "stream",
     "text": [
      "boot time\n",
      "boot time is super fast around anywhere from 35 seconds to 1 minute\n",
      "[500  98   0   0   0   0   0   0   0   0   0   0   0   0   0   0   0   0\n",
      "   0   0   0   0   0   0   0   0   0   0   0   0   0   0   0   0   0   0\n",
      "   0   0   0   0   0   0   0   0   0   0   0   0   0   0   0   0   0   0\n",
      "   0   0   0   0   0   0   0   0   0   0   0   0   0   0   0   0   0   0\n",
      "   0   0   0   0   0   0   0   0]\n",
      "[1318  434    4 1017 2018   44  844  261  139  532    5   98  500    0\n",
      "    0    0    0    0    0    0    0    0    0    0    0    0    0    0\n",
      "    0    0    0    0    0    0    0    0    0    0    0    0    0    0\n",
      "    0    0    0    0    0    0    0    0    0    0    0    0    0    0\n",
      "    0    0    0    0    0    0    0    0    0    0    0    0    0    0\n",
      "    0    0    0    0    0    0    0    0    0    0]\n",
      "\n",
      "the bread\n",
      "bread is top notch as well\n",
      "[  1 309   0   0   0   0   0   0   0   0   0   0   0   0   0   0   0   0\n",
      "   0   0   0   0   0   0   0   0   0   0   0   0   0   0   0   0   0   0\n",
      "   0   0   0   0   0   0   0   0   0   0   0   0   0   0   0   0   0   0\n",
      "   0   0   0   0   0   0   0   0   0   0   0   0   0   0   0   0   0   0\n",
      "   0   0   0   0   0   0   0   0]\n",
      "[  71   30 1061  359    5  309    0    0    0    0    0    0    0    0\n",
      "    0    0    0    0    0    0    0    0    0    0    0    0    0    0\n",
      "    0    0    0    0    0    0    0    0    0    0    0    0    0    0\n",
      "    0    0    0    0    0    0    0    0    0    0    0    0    0    0\n",
      "    0    0    0    0    0    0    0    0    0    0    0    0    0    0\n",
      "    0    0    0    0    0    0    0    0    0    0]\n"
     ]
    }
   ],
   "source": [
    "# 稽查dataframe、token sequence裡面laptop_test、restaurant_test資料是否一致\n",
    "# laptop_test第一筆在5915；restaurant_test第一筆在6553\n",
    "print(data.loc[5915, 'left_text'])\n",
    "print(data.loc[5915, 'right_text'])\n",
    "print(left_text_seq[5915])\n",
    "print(right_text_seq[5915])\n",
    "print()\n",
    "print(data.loc[6553, 'left_text'])\n",
    "print(data.loc[6553, 'right_text'])\n",
    "print(left_text_seq[6553])\n",
    "print(right_text_seq[6553])"
   ]
  },
  {
   "cell_type": "code",
   "execution_count": 15,
   "metadata": {},
   "outputs": [
    {
     "name": "stdout",
     "output_type": "stream",
     "text": [
      "Shape of Y: (7673,)\n",
      "1 1\n",
      "2 2\n",
      "0 0\n",
      "0 0\n",
      "1 1\n",
      "2 2\n",
      "2 2\n",
      "2 2\n",
      "2 2\n",
      "2 2\n"
     ]
    }
   ],
   "source": [
    "# 把label轉成numpy\n",
    "Y = data['label'].to_numpy()\n",
    "print('Shape of Y:', Y.shape)\n",
    "for i in range(10):\n",
    "    print(data.loc[i, 'label'], Y[i])\n",
    "#[1 0 0] = negative\n",
    "#[0 1 0] = neutral\n",
    "#[0 0 1] = positve"
   ]
  },
  {
   "cell_type": "code",
   "execution_count": 16,
   "metadata": {},
   "outputs": [
    {
     "name": "stdout",
     "output_type": "stream",
     "text": [
      "5915 5915 5915\n",
      "1758 1758 1758\n"
     ]
    }
   ],
   "source": [
    "#把資料切割成train、test\n",
    "X_left_train = left_text_seq[:5915]\n",
    "X_right_train = right_text_seq[:5915]\n",
    "Y_train = Y[:5915]\n",
    "X_left_test = left_text_seq[5915:]\n",
    "X_right_test = right_text_seq[5915:]\n",
    "Y_test = Y[5915:]\n",
    "print(len(X_left_train), len(X_right_train), len(Y_train))\n",
    "print(len(X_left_test), len(X_right_test), len(Y_test))"
   ]
  },
  {
   "cell_type": "code",
   "execution_count": 17,
   "metadata": {},
   "outputs": [
    {
     "name": "stdout",
     "output_type": "stream",
     "text": [
      "laptop_test     restaurant_test\n",
      "positive 2 2    positive 2 2\n",
      "negative 0 0    positive 2 2\n",
      "positive 2 2    positive 2 2\n",
      "negative 0 0    positive 2 2\n",
      "negative 0 0    positive 2 2\n",
      "negative 0 0    positive 2 2\n",
      "positive 2 2    positive 2 2\n",
      "negative 0 0    positive 2 2\n",
      "neutral 1 1    positive 2 2\n",
      "positive 2 2    positive 2 2\n",
      "positive 2 2    neutral 1 1\n",
      "positive 2 2    positive 2 2\n",
      "positive 2 2    positive 2 2\n",
      "positive 2 2    positive 2 2\n",
      "positive 2 2    negative 0 0\n",
      "positive 2 2    positive 2 2\n",
      "negative 0 0    neutral 1 1\n",
      "negative 0 0    neutral 1 1\n",
      "positive 2 2    positive 2 2\n",
      "positive 2 2    positive 2 2\n"
     ]
    }
   ],
   "source": [
    "# 檢查polarity跟label有沒有不一樣\n",
    "print('laptop_test', '   ','restaurant_test')\n",
    "for i in range(20):\n",
    "    print(laptop_test.loc[i, 'polarity'], data.loc[5915+i, 'label'], Y_test[i], '  ', restaurant_test.loc[i, 'polarity'], data.loc[6553+i, 'label'], Y_test[638+i])"
   ]
  },
  {
   "cell_type": "markdown",
   "metadata": {},
   "source": [
    "## Model"
   ]
  },
  {
   "cell_type": "code",
   "execution_count": 18,
   "metadata": {},
   "outputs": [],
   "source": [
    "import tensorflow as tf\n",
    "\n",
    "from tensorflow.keras.models import Model, Sequential\n",
    "from tensorflow.keras.layers import LSTM, Activation, Dense, Dropout, Input, Embedding, Flatten, InputLayer, Bidirectional, concatenate, add, average, Reshape\n",
    "from tensorflow.keras.optimizers import RMSprop, Adam\n",
    "from tensorflow.keras.preprocessing.text import Tokenizer\n",
    "from tensorflow.keras.preprocessing import sequence\n",
    "from tensorflow.keras.callbacks import EarlyStopping\n",
    "from tensorflow.keras.utils import plot_model"
   ]
  },
  {
   "cell_type": "markdown",
   "metadata": {},
   "source": [
    "### 把兩邊input average起來，有加上dropout的模型"
   ]
  },
  {
   "cell_type": "code",
   "execution_count": 26,
   "metadata": {},
   "outputs": [
    {
     "name": "stdout",
     "output_type": "stream",
     "text": [
      "Model: \"model_1\"\n",
      "__________________________________________________________________________________________________\n",
      "Layer (type)                    Output Shape         Param #     Connected to                     \n",
      "==================================================================================================\n",
      "input_3 (InputLayer)            [(None, 80)]         0                                            \n",
      "__________________________________________________________________________________________________\n",
      "input_4 (InputLayer)            [(None, 80)]         0                                            \n",
      "__________________________________________________________________________________________________\n",
      "embedding_2 (Embedding)         (None, 80, 300)      1967400     input_3[0][0]                    \n",
      "__________________________________________________________________________________________________\n",
      "embedding_3 (Embedding)         (None, 80, 300)      1967400     input_4[0][0]                    \n",
      "__________________________________________________________________________________________________\n",
      "lstm_2 (LSTM)                   (None, 512)          1665024     embedding_2[0][0]                \n",
      "__________________________________________________________________________________________________\n",
      "lstm_3 (LSTM)                   (None, 512)          1665024     embedding_3[0][0]                \n",
      "__________________________________________________________________________________________________\n",
      "average_1 (Average)             (None, 512)          0           lstm_2[0][0]                     \n",
      "                                                                 lstm_3[0][0]                     \n",
      "__________________________________________________________________________________________________\n",
      "dense_3 (Dense)                 (None, 128)          65664       average_1[0][0]                  \n",
      "__________________________________________________________________________________________________\n",
      "dropout_2 (Dropout)             (None, 128)          0           dense_3[0][0]                    \n",
      "__________________________________________________________________________________________________\n",
      "dense_4 (Dense)                 (None, 64)           8256        dropout_2[0][0]                  \n",
      "__________________________________________________________________________________________________\n",
      "dropout_3 (Dropout)             (None, 64)           0           dense_4[0][0]                    \n",
      "__________________________________________________________________________________________________\n",
      "dense_5 (Dense)                 (None, 3)            195         dropout_3[0][0]                  \n",
      "==================================================================================================\n",
      "Total params: 7,338,963\n",
      "Trainable params: 7,338,963\n",
      "Non-trainable params: 0\n",
      "__________________________________________________________________________________________________\n",
      "None\n"
     ]
    }
   ],
   "source": [
    "# first input model 1\n",
    "input_layer_1 = Input(shape = (max_seq_length,), dtype='int64')\n",
    "embedding_1 = Embedding(len(word_index) + 1, embedding_dim, weights=[embedding_matrix], mask_zero=True, trainable=True)(input_layer_1)\n",
    "lstm_hidden_1 = LSTM(512, return_sequences=False, dropout=0.3)(embedding_1) \n",
    "# lstm_hidden_1 = Bidirectional(LSTM(512, return_sequences=False, dropout=0.4))(embedding_1) \n",
    "\n",
    "#second input model 2\n",
    "input_layer_2 = Input(shape = (max_seq_length,), dtype='int64')\n",
    "embedding_2 = Embedding(len(word_index) + 1, embedding_dim, weights=[embedding_matrix], mask_zero=True, trainable=True)(input_layer_2)\n",
    "lstm_hidden_2 = LSTM(512, return_sequences=False, dropout=0.3)(embedding_2)\n",
    "# lstm_hidden_2 = Bidirectional(LSTM(512, return_sequences=False, dropout=0.4))(embedding_2)\n",
    "\n",
    "#merge input model\n",
    "averaged = average([lstm_hidden_1, lstm_hidden_2])\n",
    "hidden_1 = Dense(128, activation='relu')(averaged)\n",
    "dropout_1 = Dropout(0.3)(hidden_1)\n",
    "hidden_2 = Dense(64, activation='relu')(dropout_1)\n",
    "dropout_2 = Dropout(0.3)(hidden_2)\n",
    "output = Dense(3, activation='softmax')(dropout_2)\n",
    "model1 = Model(inputs=[input_layer_1, input_layer_2], outputs=output)\n",
    "print(model1.summary())\n",
    "adam = Adam(lr=1e-3)\n",
    "\n",
    "optimizer = tf.keras.optimizers.Adam(learning_rate=1e-3, epsilon=1e-08, clipnorm=1.0)\n",
    "loss = tf.keras.losses.SparseCategoricalCrossentropy(from_logits=True)\n",
    "metric = tf.keras.metrics.SparseCategoricalAccuracy('accuracy')\n",
    "model1.compile(loss=loss, optimizer=optimizer, metrics=[metric])\n",
    "\n",
    "early_stopping = EarlyStopping(monitor='val_loss', patience=5, verbose=1, restore_best_weights=True)"
   ]
  },
  {
   "cell_type": "code",
   "execution_count": 35,
   "metadata": {},
   "outputs": [
    {
     "name": "stdout",
     "output_type": "stream",
     "text": [
      "Train on 5915 samples, validate on 1758 samples\n",
      "Epoch 1/30\n",
      "5915/5915 [==============================] - 3s 469us/sample - loss: 0.6090 - accuracy: 0.9427 - val_loss: 0.8081 - val_accuracy: 0.7412\n",
      "Epoch 2/30\n",
      "5915/5915 [==============================] - 3s 461us/sample - loss: 0.6131 - accuracy: 0.9380 - val_loss: 0.8053 - val_accuracy: 0.7412\n",
      "Epoch 3/30\n",
      "5915/5915 [==============================] - 3s 466us/sample - loss: 0.6060 - accuracy: 0.9444 - val_loss: 0.8105 - val_accuracy: 0.7400\n",
      "Epoch 4/30\n",
      "5915/5915 [==============================] - 3s 574us/sample - loss: 0.6075 - accuracy: 0.9435 - val_loss: 0.8176 - val_accuracy: 0.7281\n",
      "Epoch 5/30\n",
      "5915/5915 [==============================] - 3s 465us/sample - loss: 0.6062 - accuracy: 0.9444 - val_loss: 0.8175 - val_accuracy: 0.7304\n",
      "Epoch 6/30\n",
      "5915/5915 [==============================] - 3s 523us/sample - loss: 0.6013 - accuracy: 0.9498 - val_loss: 0.8238 - val_accuracy: 0.7241\n",
      "Epoch 7/30\n",
      "5824/5915 [============================>.] - ETA: 0s - loss: 0.5976 - accuracy: 0.9533Restoring model weights from the end of the best epoch.\n",
      "5915/5915 [==============================] - 3s 481us/sample - loss: 0.5979 - accuracy: 0.9530 - val_loss: 0.8216 - val_accuracy: 0.7258\n",
      "Epoch 00007: early stopping\n"
     ]
    }
   ],
   "source": [
    "model1_fit = model1.fit([X_left_train, X_right_train],Y_train, batch_size=64,epochs=30,\n",
    "                      validation_data=([X_left_test, X_right_test],Y_test), callbacks=[early_stopping])"
   ]
  },
  {
   "cell_type": "markdown",
   "metadata": {},
   "source": [
    "### 看confusion matrix"
   ]
  },
  {
   "cell_type": "code",
   "execution_count": 36,
   "metadata": {},
   "outputs": [],
   "source": [
    "from sklearn.metrics import accuracy_score\n",
    "from sklearn.metrics import confusion_matrix\n",
    "from sklearn.metrics import classification_report"
   ]
  },
  {
   "cell_type": "code",
   "execution_count": 37,
   "metadata": {},
   "outputs": [
    {
     "name": "stdout",
     "output_type": "stream",
     "text": [
      "0.7411831626848692\n",
      "[[189  59  76]\n",
      " [ 67 167 131]\n",
      " [ 52  70 947]]\n",
      "              precision    recall  f1-score   support\n",
      "\n",
      "           0       0.61      0.58      0.60       324\n",
      "           1       0.56      0.46      0.51       365\n",
      "           2       0.82      0.89      0.85      1069\n",
      "\n",
      "    accuracy                           0.74      1758\n",
      "   macro avg       0.67      0.64      0.65      1758\n",
      "weighted avg       0.73      0.74      0.73      1758\n",
      "\n"
     ]
    }
   ],
   "source": [
    "# 取所有label中的test label\n",
    "Y_label = data['label'].to_numpy()[5915:]\n",
    "\n",
    "# test data confusion matrix\n",
    "predictions= model1.predict([X_left_test, X_right_test]) # 輸出的是n*5的編碼值array\n",
    "predictions = np.argmax(predictions, axis=1) # axis = 1是取行的最大值的索引，0是列的最大值的索引\n",
    "print(accuracy_score(Y_label, predictions))\n",
    "print(confusion_matrix(Y_label, predictions))\n",
    "print(classification_report(Y_label, predictions))"
   ]
  },
  {
   "cell_type": "code",
   "execution_count": 38,
   "metadata": {},
   "outputs": [
    {
     "name": "stdout",
     "output_type": "stream",
     "text": [
      "0.6880877742946708\n",
      "[[ 76  32  20]\n",
      " [ 42  85  42]\n",
      " [ 26  37 278]]\n",
      "              precision    recall  f1-score   support\n",
      "\n",
      "           0       0.53      0.59      0.56       128\n",
      "           1       0.55      0.50      0.53       169\n",
      "           2       0.82      0.82      0.82       341\n",
      "\n",
      "    accuracy                           0.69       638\n",
      "   macro avg       0.63      0.64      0.63       638\n",
      "weighted avg       0.69      0.69      0.69       638\n",
      "\n"
     ]
    }
   ],
   "source": [
    "# 取所有label中的laptop test lable\n",
    "laptop_label = data['label'].to_numpy()[5915:6553]\n",
    "\n",
    "# laptop test data confusion matrix\n",
    "predictions= model1.predict([X_left_test[:638], X_right_test[:638]]) # 輸出的是n*5的編碼值array\n",
    "predictions = np.argmax(predictions, axis=1) # axis = 1是取行的最大值的索引，0是列的最大值的索引\n",
    "print(accuracy_score(laptop_label, predictions))\n",
    "print(confusion_matrix(laptop_label, predictions))\n",
    "print(classification_report(laptop_label, predictions))"
   ]
  },
  {
   "cell_type": "code",
   "execution_count": 39,
   "metadata": {},
   "outputs": [
    {
     "name": "stdout",
     "output_type": "stream",
     "text": [
      "0.7714285714285715\n",
      "[[113  27  56]\n",
      " [ 25  82  89]\n",
      " [ 26  33 669]]\n",
      "              precision    recall  f1-score   support\n",
      "\n",
      "           0       0.69      0.58      0.63       196\n",
      "           1       0.58      0.42      0.49       196\n",
      "           2       0.82      0.92      0.87       728\n",
      "\n",
      "    accuracy                           0.77      1120\n",
      "   macro avg       0.70      0.64      0.66      1120\n",
      "weighted avg       0.76      0.77      0.76      1120\n",
      "\n"
     ]
    }
   ],
   "source": [
    "# 取所有label中的restaurant test lable\n",
    "restaurant_label = data['label'].to_numpy()[6553:]\n",
    "\n",
    "# restaurant test data confusion matrix\n",
    "predictions= model1.predict([X_left_test[638:], X_right_test[638:]]) # 輸出的是n*5的編碼值array\n",
    "predictions = np.argmax(predictions, axis=1) # axis = 1是取行的最大值的索引，0是列的最大值的索引\n",
    "print(accuracy_score(restaurant_label, predictions))\n",
    "print(confusion_matrix(restaurant_label, predictions))\n",
    "print(classification_report(restaurant_label, predictions))"
   ]
  },
  {
   "cell_type": "markdown",
   "metadata": {},
   "source": [
    "### 預測所有data label，並把output放進dataframe"
   ]
  },
  {
   "cell_type": "code",
   "execution_count": 40,
   "metadata": {},
   "outputs": [
    {
     "name": "stdout",
     "output_type": "stream",
     "text": [
      "predictions長度: 7673\n",
      "0.9032972761631696\n",
      "[[1772   94  129]\n",
      " [ 126 1129  203]\n",
      " [  90  100 4030]]\n",
      "              precision    recall  f1-score   support\n",
      "\n",
      "           0       0.89      0.89      0.89      1995\n",
      "           1       0.85      0.77      0.81      1458\n",
      "           2       0.92      0.95      0.94      4220\n",
      "\n",
      "    accuracy                           0.90      7673\n",
      "   macro avg       0.89      0.87      0.88      7673\n",
      "weighted avg       0.90      0.90      0.90      7673\n",
      "\n",
      "7673\n"
     ]
    }
   ],
   "source": [
    "# 把train、test一起預測\n",
    "Y_label = data['label'].to_numpy()\n",
    "\n",
    "# test data confusion matrix\n",
    "predictions= model1.predict([left_text_seq, right_text_seq]) # 輸出的是n*5的編碼值array\n",
    "predictions = np.argmax(predictions, axis=1) # axis = 1是取行的最大值的索引，0是列的最大值的索引\n",
    "print('predictions長度:', len(predictions))\n",
    "print(accuracy_score(Y_label, predictions))\n",
    "print(confusion_matrix(Y_label, predictions))\n",
    "print(classification_report(Y_label, predictions))\n",
    "print(len(predictions))"
   ]
  },
  {
   "cell_type": "code",
   "execution_count": 41,
   "metadata": {},
   "outputs": [
    {
     "data": {
      "text/plain": [
       "array([1, 2, 0, ..., 2, 2, 2])"
      ]
     },
     "execution_count": 41,
     "metadata": {},
     "output_type": "execute_result"
    }
   ],
   "source": [
    "predictions"
   ]
  },
  {
   "cell_type": "code",
   "execution_count": 42,
   "metadata": {},
   "outputs": [
    {
     "data": {
      "text/html": [
       "<div>\n",
       "<style scoped>\n",
       "    .dataframe tbody tr th:only-of-type {\n",
       "        vertical-align: middle;\n",
       "    }\n",
       "\n",
       "    .dataframe tbody tr th {\n",
       "        vertical-align: top;\n",
       "    }\n",
       "\n",
       "    .dataframe thead th {\n",
       "        text-align: right;\n",
       "    }\n",
       "</style>\n",
       "<table border=\"1\" class=\"dataframe\">\n",
       "  <thead>\n",
       "    <tr style=\"text-align: right;\">\n",
       "      <th></th>\n",
       "      <th>text</th>\n",
       "      <th>aspect</th>\n",
       "      <th>polarity</th>\n",
       "      <th>left_text</th>\n",
       "      <th>right_text</th>\n",
       "      <th>left_right_text</th>\n",
       "      <th>label</th>\n",
       "      <th>lstm_predict</th>\n",
       "    </tr>\n",
       "  </thead>\n",
       "  <tbody>\n",
       "    <tr>\n",
       "      <th>7663</th>\n",
       "      <td>Anyway, the owner was fake.</td>\n",
       "      <td>owner</td>\n",
       "      <td>negative</td>\n",
       "      <td>anyway the owner</td>\n",
       "      <td>owner was fake</td>\n",
       "      <td>anyway the owner owner was fake</td>\n",
       "      <td>0</td>\n",
       "      <td>1</td>\n",
       "    </tr>\n",
       "    <tr>\n",
       "      <th>7664</th>\n",
       "      <td>Owner is pleasant and entertaining.</td>\n",
       "      <td>Owner</td>\n",
       "      <td>positive</td>\n",
       "      <td>owner</td>\n",
       "      <td>owner is pleasant and entertaining</td>\n",
       "      <td>owner owner is pleasant and entertaining</td>\n",
       "      <td>2</td>\n",
       "      <td>2</td>\n",
       "    </tr>\n",
       "    <tr>\n",
       "      <th>7665</th>\n",
       "      <td>I have never in my life sent back food before,...</td>\n",
       "      <td>food</td>\n",
       "      <td>negative</td>\n",
       "      <td>i have never in my life sent back food</td>\n",
       "      <td>food before but i simply had to and the waiter...</td>\n",
       "      <td>i have never in my life sent back food food be...</td>\n",
       "      <td>0</td>\n",
       "      <td>1</td>\n",
       "    </tr>\n",
       "    <tr>\n",
       "      <th>7666</th>\n",
       "      <td>I have never in my life sent back food before,...</td>\n",
       "      <td>waiter</td>\n",
       "      <td>negative</td>\n",
       "      <td>i have never in my life sent back food before ...</td>\n",
       "      <td>waiter argued with me over this</td>\n",
       "      <td>i have never in my life sent back food before ...</td>\n",
       "      <td>0</td>\n",
       "      <td>2</td>\n",
       "    </tr>\n",
       "    <tr>\n",
       "      <th>7667</th>\n",
       "      <td>Although the restaurant itself is nice, I pref...</td>\n",
       "      <td>food</td>\n",
       "      <td>negative</td>\n",
       "      <td>although the restaurant itself is nice i prefe...</td>\n",
       "      <td>food</td>\n",
       "      <td>although the restaurant itself is nice i prefe...</td>\n",
       "      <td>0</td>\n",
       "      <td>1</td>\n",
       "    </tr>\n",
       "    <tr>\n",
       "      <th>7668</th>\n",
       "      <td>Creamy appetizers--taramasalata, eggplant sala...</td>\n",
       "      <td>Creamy appetizers</td>\n",
       "      <td>positive</td>\n",
       "      <td>creamy appetizers</td>\n",
       "      <td>creamy appetizers  taramasalata eggplant salad...</td>\n",
       "      <td>creamy appetizers creamy appetizers  taramasal...</td>\n",
       "      <td>2</td>\n",
       "      <td>2</td>\n",
       "    </tr>\n",
       "    <tr>\n",
       "      <th>7669</th>\n",
       "      <td>Creamy appetizers--taramasalata, eggplant sala...</td>\n",
       "      <td>warm pitas</td>\n",
       "      <td>neutral</td>\n",
       "      <td>creamy appetizers  taramasalata eggplant salad...</td>\n",
       "      <td>warm pitas</td>\n",
       "      <td>creamy appetizers  taramasalata eggplant salad...</td>\n",
       "      <td>1</td>\n",
       "      <td>2</td>\n",
       "    </tr>\n",
       "    <tr>\n",
       "      <th>7670</th>\n",
       "      <td>Creamy appetizers--taramasalata, eggplant sala...</td>\n",
       "      <td>taramasalata</td>\n",
       "      <td>positive</td>\n",
       "      <td>creamy appetizers  taramasalata</td>\n",
       "      <td>taramasalata eggplant salad and greek yogurt w...</td>\n",
       "      <td>creamy appetizers  taramasalata taramasalata e...</td>\n",
       "      <td>2</td>\n",
       "      <td>2</td>\n",
       "    </tr>\n",
       "    <tr>\n",
       "      <th>7671</th>\n",
       "      <td>Creamy appetizers--taramasalata, eggplant sala...</td>\n",
       "      <td>eggplant salad</td>\n",
       "      <td>positive</td>\n",
       "      <td>creamy appetizers  taramasalata eggplant salad</td>\n",
       "      <td>eggplant salad and greek yogurt with cuccumber...</td>\n",
       "      <td>creamy appetizers  taramasalata eggplant salad...</td>\n",
       "      <td>2</td>\n",
       "      <td>2</td>\n",
       "    </tr>\n",
       "    <tr>\n",
       "      <th>7672</th>\n",
       "      <td>Creamy appetizers--taramasalata, eggplant sala...</td>\n",
       "      <td>Greek yogurt (with cuccumber, dill, and garlic)</td>\n",
       "      <td>positive</td>\n",
       "      <td>creamy appetizers  taramasalata eggplant salad...</td>\n",
       "      <td>greek yogurt with cuccumber dill and garlic ta...</td>\n",
       "      <td>creamy appetizers  taramasalata eggplant salad...</td>\n",
       "      <td>2</td>\n",
       "      <td>2</td>\n",
       "    </tr>\n",
       "  </tbody>\n",
       "</table>\n",
       "</div>"
      ],
      "text/plain": [
       "                                                   text  \\\n",
       "7663                        Anyway, the owner was fake.   \n",
       "7664                Owner is pleasant and entertaining.   \n",
       "7665  I have never in my life sent back food before,...   \n",
       "7666  I have never in my life sent back food before,...   \n",
       "7667  Although the restaurant itself is nice, I pref...   \n",
       "7668  Creamy appetizers--taramasalata, eggplant sala...   \n",
       "7669  Creamy appetizers--taramasalata, eggplant sala...   \n",
       "7670  Creamy appetizers--taramasalata, eggplant sala...   \n",
       "7671  Creamy appetizers--taramasalata, eggplant sala...   \n",
       "7672  Creamy appetizers--taramasalata, eggplant sala...   \n",
       "\n",
       "                                               aspect  polarity  \\\n",
       "7663                                            owner  negative   \n",
       "7664                                            Owner  positive   \n",
       "7665                                             food  negative   \n",
       "7666                                           waiter  negative   \n",
       "7667                                             food  negative   \n",
       "7668                                Creamy appetizers  positive   \n",
       "7669                                       warm pitas   neutral   \n",
       "7670                                     taramasalata  positive   \n",
       "7671                                   eggplant salad  positive   \n",
       "7672  Greek yogurt (with cuccumber, dill, and garlic)  positive   \n",
       "\n",
       "                                              left_text  \\\n",
       "7663                                   anyway the owner   \n",
       "7664                                              owner   \n",
       "7665             i have never in my life sent back food   \n",
       "7666  i have never in my life sent back food before ...   \n",
       "7667  although the restaurant itself is nice i prefe...   \n",
       "7668                                  creamy appetizers   \n",
       "7669  creamy appetizers  taramasalata eggplant salad...   \n",
       "7670                    creamy appetizers  taramasalata   \n",
       "7671     creamy appetizers  taramasalata eggplant salad   \n",
       "7672  creamy appetizers  taramasalata eggplant salad...   \n",
       "\n",
       "                                             right_text  \\\n",
       "7663                                     owner was fake   \n",
       "7664                 owner is pleasant and entertaining   \n",
       "7665  food before but i simply had to and the waiter...   \n",
       "7666                    waiter argued with me over this   \n",
       "7667                                               food   \n",
       "7668  creamy appetizers  taramasalata eggplant salad...   \n",
       "7669                                         warm pitas   \n",
       "7670  taramasalata eggplant salad and greek yogurt w...   \n",
       "7671  eggplant salad and greek yogurt with cuccumber...   \n",
       "7672  greek yogurt with cuccumber dill and garlic ta...   \n",
       "\n",
       "                                        left_right_text  label  lstm_predict  \n",
       "7663                    anyway the owner owner was fake      0             1  \n",
       "7664           owner owner is pleasant and entertaining      2             2  \n",
       "7665  i have never in my life sent back food food be...      0             1  \n",
       "7666  i have never in my life sent back food before ...      0             2  \n",
       "7667  although the restaurant itself is nice i prefe...      0             1  \n",
       "7668  creamy appetizers creamy appetizers  taramasal...      2             2  \n",
       "7669  creamy appetizers  taramasalata eggplant salad...      1             2  \n",
       "7670  creamy appetizers  taramasalata taramasalata e...      2             2  \n",
       "7671  creamy appetizers  taramasalata eggplant salad...      2             2  \n",
       "7672  creamy appetizers  taramasalata eggplant salad...      2             2  "
      ]
     },
     "execution_count": 42,
     "metadata": {},
     "output_type": "execute_result"
    }
   ],
   "source": [
    "# 把LSTM predict出來的東西放進dataframe\n",
    "data['lstm_predict'] = predictions\n",
    "data.tail(10)"
   ]
  },
  {
   "cell_type": "markdown",
   "metadata": {},
   "source": [
    "### 針對lstm出來的結果，對原始text加上feature(加上文字)"
   ]
  },
  {
   "cell_type": "code",
   "execution_count": 43,
   "metadata": {},
   "outputs": [],
   "source": [
    "# 處理lstm_predict，如果是2(positvie)，text加上positive；如果是1(neutral)，text加上neutral；如果是2(negative)，text加上negative\n",
    "for i in range(len(data)):\n",
    "    text = data.loc[i, 'text']\n",
    "    lstm_predict = data.loc[i, 'lstm_predict']\n",
    "    \n",
    "    if lstm_predict==2:\n",
    "        text = text+'positive'\n",
    "    elif lstm_predict==1:\n",
    "        text = text+'neutral'\n",
    "    else:\n",
    "        text = text+'negative'\n",
    "        \n",
    "    data.loc[i, 'text_after_lstm'] = text"
   ]
  },
  {
   "cell_type": "code",
   "execution_count": 52,
   "metadata": {},
   "outputs": [
    {
     "name": "stdout",
     "output_type": "stream",
     "text": [
      "The Like New condition of the iMac MC309LL/A on Amazon is at $900+ level only, and it is a Quad-Core 2.5 GHz CPU (similar to the $799 Mini), with Radeon HD 6750M 512MB graphic card (this mini is integrated Intel 4000 card), and it even comes with wireless Apple Keyboard and Mouse, all put together in neat and nice package.\n",
      "polarity: Radeon HD 6750M 512MB graphic card\n",
      "true label: 1\n",
      "lstm predict: 1\n",
      "The Like New condition of the iMac MC309LL/A on Amazon is at $900+ level only, and it is a Quad-Core 2.5 GHz CPU (similar to the $799 Mini), with Radeon HD 6750M 512MB graphic card (this mini is integrated Intel 4000 card), and it even comes with wireless Apple Keyboard and Mouse, all put together in neat and nice package.neutral\n"
     ]
    }
   ],
   "source": [
    "# 稽查有沒有加好\n",
    "n = 6299\n",
    "print(data.loc[n, 'text'])\n",
    "print('polarity:', data.loc[n, 'aspect'])\n",
    "print('true label:', data.loc[n, 'label'])\n",
    "print('lstm predict:', data.loc[n, 'lstm_predict'])\n",
    "print(data.loc[n, 'text_after_lstm'])"
   ]
  },
  {
   "cell_type": "code",
   "execution_count": 53,
   "metadata": {},
   "outputs": [
    {
     "data": {
      "text/html": [
       "<div>\n",
       "<style scoped>\n",
       "    .dataframe tbody tr th:only-of-type {\n",
       "        vertical-align: middle;\n",
       "    }\n",
       "\n",
       "    .dataframe tbody tr th {\n",
       "        vertical-align: top;\n",
       "    }\n",
       "\n",
       "    .dataframe thead th {\n",
       "        text-align: right;\n",
       "    }\n",
       "</style>\n",
       "<table border=\"1\" class=\"dataframe\">\n",
       "  <thead>\n",
       "    <tr style=\"text-align: right;\">\n",
       "      <th></th>\n",
       "      <th>text</th>\n",
       "      <th>aspect</th>\n",
       "      <th>polarity</th>\n",
       "      <th>left_text</th>\n",
       "      <th>right_text</th>\n",
       "      <th>left_right_text</th>\n",
       "      <th>label</th>\n",
       "      <th>lstm_predict</th>\n",
       "      <th>text_after_lstm</th>\n",
       "    </tr>\n",
       "  </thead>\n",
       "  <tbody>\n",
       "    <tr>\n",
       "      <th>0</th>\n",
       "      <td>I charge it at night and skip taking the cord ...</td>\n",
       "      <td>cord</td>\n",
       "      <td>neutral</td>\n",
       "      <td>i charge it at night and skip taking the cord</td>\n",
       "      <td>cord with me because of the good battery life</td>\n",
       "      <td>i charge it at night and skip taking the cord ...</td>\n",
       "      <td>1</td>\n",
       "      <td>1</td>\n",
       "      <td>I charge it at night and skip taking the cord ...</td>\n",
       "    </tr>\n",
       "    <tr>\n",
       "      <th>1</th>\n",
       "      <td>I charge it at night and skip taking the cord ...</td>\n",
       "      <td>battery life</td>\n",
       "      <td>positive</td>\n",
       "      <td>i charge it at night and skip taking the cord ...</td>\n",
       "      <td>battery life</td>\n",
       "      <td>i charge it at night and skip taking the cord ...</td>\n",
       "      <td>2</td>\n",
       "      <td>2</td>\n",
       "      <td>I charge it at night and skip taking the cord ...</td>\n",
       "    </tr>\n",
       "    <tr>\n",
       "      <th>2</th>\n",
       "      <td>The tech guy then said the service center does...</td>\n",
       "      <td>service center</td>\n",
       "      <td>negative</td>\n",
       "      <td>the tech guy then said the service center</td>\n",
       "      <td>service center does not do 1 to 1 exchange and...</td>\n",
       "      <td>the tech guy then said the service center serv...</td>\n",
       "      <td>0</td>\n",
       "      <td>0</td>\n",
       "      <td>The tech guy then said the service center does...</td>\n",
       "    </tr>\n",
       "    <tr>\n",
       "      <th>3</th>\n",
       "      <td>The tech guy then said the service center does...</td>\n",
       "      <td>\"sales\" team</td>\n",
       "      <td>negative</td>\n",
       "      <td>the tech guy then said the service center does...</td>\n",
       "      <td>sales team which is the retail shop which i bo...</td>\n",
       "      <td>the tech guy then said the service center does...</td>\n",
       "      <td>0</td>\n",
       "      <td>0</td>\n",
       "      <td>The tech guy then said the service center does...</td>\n",
       "    </tr>\n",
       "    <tr>\n",
       "      <th>4</th>\n",
       "      <td>The tech guy then said the service center does...</td>\n",
       "      <td>tech guy</td>\n",
       "      <td>neutral</td>\n",
       "      <td>the tech guy</td>\n",
       "      <td>tech guy then said the service center does not...</td>\n",
       "      <td>the tech guy tech guy then said the service ce...</td>\n",
       "      <td>1</td>\n",
       "      <td>0</td>\n",
       "      <td>The tech guy then said the service center does...</td>\n",
       "    </tr>\n",
       "  </tbody>\n",
       "</table>\n",
       "</div>"
      ],
      "text/plain": [
       "                                                text          aspect  \\\n",
       "0  I charge it at night and skip taking the cord ...            cord   \n",
       "1  I charge it at night and skip taking the cord ...    battery life   \n",
       "2  The tech guy then said the service center does...  service center   \n",
       "3  The tech guy then said the service center does...    \"sales\" team   \n",
       "4  The tech guy then said the service center does...        tech guy   \n",
       "\n",
       "   polarity                                          left_text  \\\n",
       "0   neutral      i charge it at night and skip taking the cord   \n",
       "1  positive  i charge it at night and skip taking the cord ...   \n",
       "2  negative          the tech guy then said the service center   \n",
       "3  negative  the tech guy then said the service center does...   \n",
       "4   neutral                                       the tech guy   \n",
       "\n",
       "                                          right_text  \\\n",
       "0      cord with me because of the good battery life   \n",
       "1                                       battery life   \n",
       "2  service center does not do 1 to 1 exchange and...   \n",
       "3  sales team which is the retail shop which i bo...   \n",
       "4  tech guy then said the service center does not...   \n",
       "\n",
       "                                     left_right_text  label  lstm_predict  \\\n",
       "0  i charge it at night and skip taking the cord ...      1             1   \n",
       "1  i charge it at night and skip taking the cord ...      2             2   \n",
       "2  the tech guy then said the service center serv...      0             0   \n",
       "3  the tech guy then said the service center does...      0             0   \n",
       "4  the tech guy tech guy then said the service ce...      1             0   \n",
       "\n",
       "                                     text_after_lstm  \n",
       "0  I charge it at night and skip taking the cord ...  \n",
       "1  I charge it at night and skip taking the cord ...  \n",
       "2  The tech guy then said the service center does...  \n",
       "3  The tech guy then said the service center does...  \n",
       "4  The tech guy then said the service center does...  "
      ]
     },
     "execution_count": 53,
     "metadata": {},
     "output_type": "execute_result"
    }
   ],
   "source": [
    "data.head()"
   ]
  },
  {
   "cell_type": "markdown",
   "metadata": {},
   "source": [
    "### Bert前處理"
   ]
  },
  {
   "cell_type": "code",
   "execution_count": 54,
   "metadata": {},
   "outputs": [],
   "source": [
    "from transformers import BertTokenizer, BertModel, TFBertForSequenceClassification, TFBertModel"
   ]
  },
  {
   "cell_type": "code",
   "execution_count": 55,
   "metadata": {},
   "outputs": [],
   "source": [
    "# Load pre-trained model tokenizer, to convert our text into tokens that correspond to BERT’s vocabulary.\n",
    "tokenizer = BertTokenizer.from_pretrained('bert-base-uncased')"
   ]
  },
  {
   "cell_type": "markdown",
   "metadata": {},
   "source": [
    "#### 找出單句最多token"
   ]
  },
  {
   "cell_type": "code",
   "execution_count": 56,
   "metadata": {},
   "outputs": [],
   "source": [
    "# 找出最多text add aspect中最多是幾個token，不包含CLS跟SEP\n",
    "def find_max_token(pd):\n",
    "    max_token = 0\n",
    "    index = 0\n",
    "    for i in range(len(pd)):\n",
    "        text = pd.loc[i, 'text_after_lstm']\n",
    "        aspect = pd.loc[i, 'aspect']\n",
    "        text_aspect = text + ' ' +aspect\n",
    "        tokens_len = len(tokenizer.tokenize(text_aspect))\n",
    "        if tokens_len>max_token:\n",
    "            max_token = tokens_len\n",
    "            index = i\n",
    "    return [max_token, index]"
   ]
  },
  {
   "cell_type": "code",
   "execution_count": 58,
   "metadata": {},
   "outputs": [
    {
     "name": "stdout",
     "output_type": "stream",
     "text": [
      "資料集token最多與index是: [100, 6299]\n"
     ]
    }
   ],
   "source": [
    "# 找出text add aspect中token最多的是幾個token，不包含CLS跟SEP\n",
    "max_token = find_max_token(data)\n",
    "print('資料集token最多與index是:', max_token)"
   ]
  },
  {
   "cell_type": "markdown",
   "metadata": {},
   "source": [
    "### 正式把資料轉換成token(padding)"
   ]
  },
  {
   "cell_type": "markdown",
   "metadata": {},
   "source": [
    "#### 把句子轉變成token(CLS+text+SEP+asepct)+(padding)的function"
   ]
  },
  {
   "cell_type": "code",
   "execution_count": 59,
   "metadata": {},
   "outputs": [],
   "source": [
    "# 把維度固定在128維\n",
    "input_dim = 128\n",
    "def input_ids_all(pd):\n",
    "    pd['input_ids'] = 'N/A'\n",
    "    for i in range(len(pd)):\n",
    "        text = pd.loc[i, 'text_after_lstm']\n",
    "        aspect = pd.loc[i, 'aspect']\n",
    "        text_tokens = tokenizer.tokenize(text) # 把text轉成token\n",
    "        aspect_tokens = tokenizer.tokenize(aspect) # 把aspect轉成token\n",
    "        \n",
    "        text_input_ids = tokenizer.convert_tokens_to_ids(text_tokens) # 把text token轉成text token id\n",
    "        aspect_input_ids = tokenizer.convert_tokens_to_ids(aspect_tokens) # 把aspect token轉成aspect token id\n",
    "        \n",
    "        text_input_ids_cls = tokenizer.build_inputs_with_special_tokens(text_input_ids) # aspect token id加上CLS、SEP token id\n",
    "        input_ids = text_input_ids_cls + aspect_input_ids # 把aspect token id接在text token id 後面 (CLS+text+SEP+aspect)\n",
    "        input_ids = np.array(input_ids)\n",
    "        \n",
    "        if len(input_ids) < input_dim:\n",
    "            n = input_dim - len(input_ids)\n",
    "            input_ids = np.pad(input_ids, (0, n), mode ='constant', constant_values=(0)) # array右邊append n 個 0  補長度到512\n",
    "        \n",
    "        pd['input_ids'][i] = input_ids\n",
    "    return pd"
   ]
  },
  {
   "cell_type": "code",
   "execution_count": 60,
   "metadata": {},
   "outputs": [
    {
     "name": "stderr",
     "output_type": "stream",
     "text": [
      "/home/daniel/anaconda3/envs/bertenv2/lib/python3.7/site-packages/ipykernel_launcher.py:22: SettingWithCopyWarning: \n",
      "A value is trying to be set on a copy of a slice from a DataFrame\n",
      "\n",
      "See the caveats in the documentation: https://pandas.pydata.org/pandas-docs/stable/user_guide/indexing.html#returning-a-view-versus-a-copy\n"
     ]
    },
    {
     "data": {
      "text/html": [
       "<div>\n",
       "<style scoped>\n",
       "    .dataframe tbody tr th:only-of-type {\n",
       "        vertical-align: middle;\n",
       "    }\n",
       "\n",
       "    .dataframe tbody tr th {\n",
       "        vertical-align: top;\n",
       "    }\n",
       "\n",
       "    .dataframe thead th {\n",
       "        text-align: right;\n",
       "    }\n",
       "</style>\n",
       "<table border=\"1\" class=\"dataframe\">\n",
       "  <thead>\n",
       "    <tr style=\"text-align: right;\">\n",
       "      <th></th>\n",
       "      <th>text</th>\n",
       "      <th>aspect</th>\n",
       "      <th>polarity</th>\n",
       "      <th>left_text</th>\n",
       "      <th>right_text</th>\n",
       "      <th>left_right_text</th>\n",
       "      <th>label</th>\n",
       "      <th>lstm_predict</th>\n",
       "      <th>text_after_lstm</th>\n",
       "      <th>input_ids</th>\n",
       "    </tr>\n",
       "  </thead>\n",
       "  <tbody>\n",
       "    <tr>\n",
       "      <th>0</th>\n",
       "      <td>I charge it at night and skip taking the cord ...</td>\n",
       "      <td>cord</td>\n",
       "      <td>neutral</td>\n",
       "      <td>i charge it at night and skip taking the cord</td>\n",
       "      <td>cord with me because of the good battery life</td>\n",
       "      <td>i charge it at night and skip taking the cord ...</td>\n",
       "      <td>1</td>\n",
       "      <td>1</td>\n",
       "      <td>I charge it at night and skip taking the cord ...</td>\n",
       "      <td>[101, 1045, 3715, 2009, 2012, 2305, 1998, 1355...</td>\n",
       "    </tr>\n",
       "    <tr>\n",
       "      <th>1</th>\n",
       "      <td>I charge it at night and skip taking the cord ...</td>\n",
       "      <td>battery life</td>\n",
       "      <td>positive</td>\n",
       "      <td>i charge it at night and skip taking the cord ...</td>\n",
       "      <td>battery life</td>\n",
       "      <td>i charge it at night and skip taking the cord ...</td>\n",
       "      <td>2</td>\n",
       "      <td>2</td>\n",
       "      <td>I charge it at night and skip taking the cord ...</td>\n",
       "      <td>[101, 1045, 3715, 2009, 2012, 2305, 1998, 1355...</td>\n",
       "    </tr>\n",
       "    <tr>\n",
       "      <th>2</th>\n",
       "      <td>The tech guy then said the service center does...</td>\n",
       "      <td>service center</td>\n",
       "      <td>negative</td>\n",
       "      <td>the tech guy then said the service center</td>\n",
       "      <td>service center does not do 1 to 1 exchange and...</td>\n",
       "      <td>the tech guy then said the service center serv...</td>\n",
       "      <td>0</td>\n",
       "      <td>0</td>\n",
       "      <td>The tech guy then said the service center does...</td>\n",
       "      <td>[101, 1996, 6627, 3124, 2059, 2056, 1996, 2326...</td>\n",
       "    </tr>\n",
       "    <tr>\n",
       "      <th>3</th>\n",
       "      <td>The tech guy then said the service center does...</td>\n",
       "      <td>\"sales\" team</td>\n",
       "      <td>negative</td>\n",
       "      <td>the tech guy then said the service center does...</td>\n",
       "      <td>sales team which is the retail shop which i bo...</td>\n",
       "      <td>the tech guy then said the service center does...</td>\n",
       "      <td>0</td>\n",
       "      <td>0</td>\n",
       "      <td>The tech guy then said the service center does...</td>\n",
       "      <td>[101, 1996, 6627, 3124, 2059, 2056, 1996, 2326...</td>\n",
       "    </tr>\n",
       "    <tr>\n",
       "      <th>4</th>\n",
       "      <td>The tech guy then said the service center does...</td>\n",
       "      <td>tech guy</td>\n",
       "      <td>neutral</td>\n",
       "      <td>the tech guy</td>\n",
       "      <td>tech guy then said the service center does not...</td>\n",
       "      <td>the tech guy tech guy then said the service ce...</td>\n",
       "      <td>1</td>\n",
       "      <td>0</td>\n",
       "      <td>The tech guy then said the service center does...</td>\n",
       "      <td>[101, 1996, 6627, 3124, 2059, 2056, 1996, 2326...</td>\n",
       "    </tr>\n",
       "  </tbody>\n",
       "</table>\n",
       "</div>"
      ],
      "text/plain": [
       "                                                text          aspect  \\\n",
       "0  I charge it at night and skip taking the cord ...            cord   \n",
       "1  I charge it at night and skip taking the cord ...    battery life   \n",
       "2  The tech guy then said the service center does...  service center   \n",
       "3  The tech guy then said the service center does...    \"sales\" team   \n",
       "4  The tech guy then said the service center does...        tech guy   \n",
       "\n",
       "   polarity                                          left_text  \\\n",
       "0   neutral      i charge it at night and skip taking the cord   \n",
       "1  positive  i charge it at night and skip taking the cord ...   \n",
       "2  negative          the tech guy then said the service center   \n",
       "3  negative  the tech guy then said the service center does...   \n",
       "4   neutral                                       the tech guy   \n",
       "\n",
       "                                          right_text  \\\n",
       "0      cord with me because of the good battery life   \n",
       "1                                       battery life   \n",
       "2  service center does not do 1 to 1 exchange and...   \n",
       "3  sales team which is the retail shop which i bo...   \n",
       "4  tech guy then said the service center does not...   \n",
       "\n",
       "                                     left_right_text  label  lstm_predict  \\\n",
       "0  i charge it at night and skip taking the cord ...      1             1   \n",
       "1  i charge it at night and skip taking the cord ...      2             2   \n",
       "2  the tech guy then said the service center serv...      0             0   \n",
       "3  the tech guy then said the service center does...      0             0   \n",
       "4  the tech guy tech guy then said the service ce...      1             0   \n",
       "\n",
       "                                     text_after_lstm  \\\n",
       "0  I charge it at night and skip taking the cord ...   \n",
       "1  I charge it at night and skip taking the cord ...   \n",
       "2  The tech guy then said the service center does...   \n",
       "3  The tech guy then said the service center does...   \n",
       "4  The tech guy then said the service center does...   \n",
       "\n",
       "                                           input_ids  \n",
       "0  [101, 1045, 3715, 2009, 2012, 2305, 1998, 1355...  \n",
       "1  [101, 1045, 3715, 2009, 2012, 2305, 1998, 1355...  \n",
       "2  [101, 1996, 6627, 3124, 2059, 2056, 1996, 2326...  \n",
       "3  [101, 1996, 6627, 3124, 2059, 2056, 1996, 2326...  \n",
       "4  [101, 1996, 6627, 3124, 2059, 2056, 1996, 2326...  "
      ]
     },
     "execution_count": 60,
     "metadata": {},
     "output_type": "execute_result"
    }
   ],
   "source": [
    "# 將text轉成token，後面加上aspect token存進dataframe\n",
    "data = input_ids_all(data)\n",
    "data.head()"
   ]
  },
  {
   "cell_type": "code",
   "execution_count": 67,
   "metadata": {},
   "outputs": [
    {
     "name": "stdout",
     "output_type": "stream",
     "text": [
      "The Like New condition of the iMac MC309LL/A on Amazon is at $900+ level only, and it is a Quad-Core 2.5 GHz CPU (similar to the $799 Mini), with Radeon HD 6750M 512MB graphic card (this mini is integrated Intel 4000 card), and it even comes with wireless Apple Keyboard and Mouse, all put together in neat and nice package.\n",
      "Radeon HD 6750M 512MB graphic card\n",
      "The Like New condition of the iMac MC309LL/A on Amazon is at $900+ level only, and it is a Quad-Core 2.5 GHz CPU (similar to the $799 Mini), with Radeon HD 6750M 512MB graphic card (this mini is integrated Intel 4000 card), and it even comes with wireless Apple Keyboard and Mouse, all put together in neat and nice package.neutral\n",
      "[  101  1996  2066  2047  4650  1997  1996 10047  6305 11338 14142  2683\n",
      "  3363  1013  1037  2006  9733  2003  2012  1002  7706  1009  2504  2069\n",
      "  1010  1998  2009  2003  1037 17718  1011  4563  1016  1012  1019 29066\n",
      " 17368  1006  2714  2000  1996  1002  6535  2683  7163  1007  1010  2007\n",
      " 10958  3207  2239 10751  6163 12376  2213 24406 14905  8425  4003  1006\n",
      "  2023  7163  2003  6377 13420 20143  4003  1007  1010  1998  2009  2130\n",
      "  3310  2007  9949  6207  9019  1998  8000  1010  2035  2404  2362  1999\n",
      " 15708  1998  3835  7427  1012  8699   102 10958  3207  2239 10751  6163\n",
      " 12376  2213 24406 14905  8425  4003     0     0     0     0     0     0\n",
      "     0     0     0     0     0     0     0     0     0     0     0     0\n",
      "     0     0     0     0     0     0     0     0]\n"
     ]
    }
   ],
   "source": [
    "# 稽查\n",
    "n = 6299\n",
    "print(data.loc[n, 'text'])\n",
    "print(data.loc[n, 'aspect'])\n",
    "print(data.loc[n, 'text_after_lstm'])\n",
    "print(data.loc[n, 'input_ids'])"
   ]
  },
  {
   "cell_type": "code",
   "execution_count": 68,
   "metadata": {},
   "outputs": [
    {
     "name": "stdout",
     "output_type": "stream",
     "text": [
      "(7673, 128)\n"
     ]
    },
    {
     "data": {
      "text/plain": [
       "array([[  101,  1045,  3715, ...,     0,     0,     0],\n",
       "       [  101,  1045,  3715, ...,     0,     0,     0],\n",
       "       [  101,  1996,  6627, ...,     0,     0,     0],\n",
       "       ...,\n",
       "       [  101, 24519, 10439, ...,     0,     0,     0],\n",
       "       [  101, 24519, 10439, ...,     0,     0,     0],\n",
       "       [  101, 24519, 10439, ...,     0,     0,     0]])"
      ]
     },
     "execution_count": 68,
     "metadata": {},
     "output_type": "execute_result"
    }
   ],
   "source": [
    "# 把data的input_ids提出存進list\n",
    "input_ids = list()\n",
    "for i in range(len(data)):\n",
    "    np_id = data.loc[i, 'input_ids']\n",
    "    input_ids.append(np_id)\n",
    "input_ids = np.array(input_ids)\n",
    "print(input_ids.shape)\n",
    "input_ids"
   ]
  },
  {
   "cell_type": "code",
   "execution_count": 69,
   "metadata": {},
   "outputs": [
    {
     "name": "stdout",
     "output_type": "stream",
     "text": [
      "7673\n"
     ]
    },
    {
     "data": {
      "text/plain": [
       "array([1, 2, 0, ..., 2, 2, 2])"
      ]
     },
     "execution_count": 69,
     "metadata": {},
     "output_type": "execute_result"
    }
   ],
   "source": [
    "# 把data label變成numpy\n",
    "label = data['label'].to_numpy()\n",
    "print(len(label))\n",
    "label"
   ]
  },
  {
   "cell_type": "markdown",
   "metadata": {},
   "source": [
    "### 切train、test資料"
   ]
  },
  {
   "cell_type": "code",
   "execution_count": 70,
   "metadata": {},
   "outputs": [
    {
     "name": "stdout",
     "output_type": "stream",
     "text": [
      "(5915, 128)\n",
      "[[ 101 1045 3715 ...    0    0    0]\n",
      " [ 101 1045 3715 ...    0    0    0]\n",
      " [ 101 1996 6627 ...    0    0    0]\n",
      " ...\n",
      " [ 101 2169 2795 ...    0    0    0]\n",
      " [ 101 2169 2795 ...    0    0    0]\n",
      " [ 101 2169 2795 ...    0    0    0]]\n",
      "\n",
      "(1758, 128)\n",
      "[[  101  9573  2051 ...     0     0     0]\n",
      " [  101  6627  2490 ...     0     0     0]\n",
      " [  101  2275  2039 ...     0     0     0]\n",
      " ...\n",
      " [  101 24519 10439 ...     0     0     0]\n",
      " [  101 24519 10439 ...     0     0     0]\n",
      " [  101 24519 10439 ...     0     0     0]]\n"
     ]
    }
   ],
   "source": [
    "train_input_ids = input_ids[:5915]\n",
    "test_input_ids = input_ids[5915:]\n",
    "print(train_input_ids.shape)\n",
    "print(train_input_ids)\n",
    "print()\n",
    "print(test_input_ids.shape)\n",
    "print(test_input_ids)"
   ]
  },
  {
   "cell_type": "code",
   "execution_count": 71,
   "metadata": {},
   "outputs": [
    {
     "name": "stdout",
     "output_type": "stream",
     "text": [
      "(5915,)\n",
      "[1 2 0 ... 1 1 1]\n",
      "\n",
      "(1758,)\n",
      "[2 0 2 ... 2 2 2]\n"
     ]
    }
   ],
   "source": [
    "train_label = label[:5915]\n",
    "test_label = label[5915:]\n",
    "print(train_label.shape)\n",
    "print(train_label)\n",
    "print()\n",
    "print(test_label.shape)\n",
    "print(test_label)"
   ]
  },
  {
   "cell_type": "code",
   "execution_count": 72,
   "metadata": {},
   "outputs": [
    {
     "name": "stdout",
     "output_type": "stream",
     "text": [
      "test_data\n",
      "positive 2 2\n",
      "negative 0 0\n",
      "positive 2 2\n",
      "negative 0 0\n",
      "negative 0 0\n",
      "negative 0 0\n",
      "positive 2 2\n",
      "negative 0 0\n",
      "neutral 1 1\n",
      "positive 2 2\n",
      "positive 2 2\n",
      "positive 2 2\n",
      "positive 2 2\n",
      "positive 2 2\n",
      "positive 2 2\n"
     ]
    }
   ],
   "source": [
    "# 檢查polarity跟label有沒有不一樣\n",
    "print('test_data')\n",
    "for i in range(15):\n",
    "    print(test_data.loc[i, 'polarity'], data.loc[5915+i, 'label'], test_label[i])"
   ]
  },
  {
   "cell_type": "markdown",
   "metadata": {},
   "source": [
    "### Model"
   ]
  },
  {
   "cell_type": "code",
   "execution_count": 73,
   "metadata": {},
   "outputs": [
    {
     "name": "stdout",
     "output_type": "stream",
     "text": [
      "Model: \"tf_bert_for_sequence_classification\"\n",
      "_________________________________________________________________\n",
      "Layer (type)                 Output Shape              Param #   \n",
      "=================================================================\n",
      "bert (TFBertMainLayer)       multiple                  109482240 \n",
      "_________________________________________________________________\n",
      "dropout_41 (Dropout)         multiple                  0         \n",
      "_________________________________________________________________\n",
      "classifier (Dense)           multiple                  2307      \n",
      "=================================================================\n",
      "Total params: 109,484,547\n",
      "Trainable params: 109,484,547\n",
      "Non-trainable params: 0\n",
      "_________________________________________________________________\n"
     ]
    }
   ],
   "source": [
    "# Prepare training: Compile tf.keras model with optimizer, loss and learning rate schedule \n",
    "# num_labels=3 分3類\n",
    "model = TFBertForSequenceClassification.from_pretrained('bert-base-uncased', num_labels=3)\n",
    "model.summary()\n",
    "\n",
    "optimizer = tf.keras.optimizers.Adam(learning_rate=3e-5, epsilon=1e-08, clipnorm=1.0)\n",
    "loss = tf.keras.losses.SparseCategoricalCrossentropy(from_logits=True)\n",
    "metric = tf.keras.metrics.SparseCategoricalAccuracy('accuracy')\n",
    "model.compile(optimizer=optimizer, loss=loss, metrics=[metric])"
   ]
  },
  {
   "cell_type": "code",
   "execution_count": 74,
   "metadata": {},
   "outputs": [
    {
     "name": "stdout",
     "output_type": "stream",
     "text": [
      "Train on 5915 samples, validate on 1758 samples\n",
      "Epoch 1/4\n",
      "5915/5915 [==============================] - 132s 22ms/sample - loss: 0.3428 - accuracy: 0.8948 - val_loss: 1.0117 - val_accuracy: 0.7400\n",
      "Epoch 2/4\n",
      "5915/5915 [==============================] - 123s 21ms/sample - loss: 0.2415 - accuracy: 0.9483 - val_loss: 1.0089 - val_accuracy: 0.7406\n",
      "Epoch 3/4\n",
      "5915/5915 [==============================] - 122s 21ms/sample - loss: 0.2358 - accuracy: 0.9498 - val_loss: 1.0566 - val_accuracy: 0.7400\n",
      "Epoch 4/4\n",
      "5915/5915 [==============================] - 114s 19ms/sample - loss: 0.2332 - accuracy: 0.9506 - val_loss: 1.0238 - val_accuracy: 0.7412\n"
     ]
    }
   ],
   "source": [
    "model_fit = model.fit(train_input_ids, train_label, \n",
    "                      batch_size=4, epochs=4, \n",
    "                      validation_data=(test_input_ids, test_label))"
   ]
  },
  {
   "cell_type": "code",
   "execution_count": 75,
   "metadata": {},
   "outputs": [
    {
     "name": "stdout",
     "output_type": "stream",
     "text": [
      "0.7411831626848692\n",
      "[[189  59  76]\n",
      " [ 67 167 131]\n",
      " [ 52  70 947]]\n",
      "              precision    recall  f1-score   support\n",
      "\n",
      "           0       0.61      0.58      0.60       324\n",
      "           1       0.56      0.46      0.51       365\n",
      "           2       0.82      0.89      0.85      1069\n",
      "\n",
      "    accuracy                           0.74      1758\n",
      "   macro avg       0.67      0.64      0.65      1758\n",
      "weighted avg       0.73      0.74      0.73      1758\n",
      "\n"
     ]
    }
   ],
   "source": [
    "# test data confusion\n",
    "predictions_test= model.predict(test_input_ids) # 輸出的是n*5的編碼值array\n",
    "predictions_test = np.argmax(predictions_test, axis=1) # axis = 1是取行的最大值的索引，0是列的最大值的索引\n",
    "print(accuracy_score(test_label, predictions_test))\n",
    "print(confusion_matrix(test_label, predictions_test))\n",
    "print(classification_report(test_label, predictions_test))"
   ]
  },
  {
   "cell_type": "code",
   "execution_count": 76,
   "metadata": {},
   "outputs": [
    {
     "name": "stdout",
     "output_type": "stream",
     "text": [
      "0.6880877742946708\n",
      "[[ 76  32  20]\n",
      " [ 42  85  42]\n",
      " [ 26  37 278]]\n",
      "              precision    recall  f1-score   support\n",
      "\n",
      "           0       0.53      0.59      0.56       128\n",
      "           1       0.55      0.50      0.53       169\n",
      "           2       0.82      0.82      0.82       341\n",
      "\n",
      "    accuracy                           0.69       638\n",
      "   macro avg       0.63      0.64      0.63       638\n",
      "weighted avg       0.69      0.69      0.69       638\n",
      "\n"
     ]
    }
   ],
   "source": [
    "# laptop_test confusion\n",
    "laptop_test_input_ids = test_input_ids[:638]\n",
    "laptop_test_label = test_label[:638]\n",
    "predictions_lap_test = model.predict(laptop_test_input_ids)\n",
    "predictions_lap_test = np.argmax(predictions_lap_test, axis=1) # axis = 1是取行的最大值的索引，0是列的最大值的索引\n",
    "print(accuracy_score(laptop_test_label, predictions_lap_test))\n",
    "print(confusion_matrix(laptop_test_label, predictions_lap_test))\n",
    "print(classification_report(laptop_test_label, predictions_lap_test))"
   ]
  },
  {
   "cell_type": "code",
   "execution_count": 77,
   "metadata": {},
   "outputs": [
    {
     "name": "stdout",
     "output_type": "stream",
     "text": [
      "0.7714285714285715\n",
      "[[113  27  56]\n",
      " [ 25  82  89]\n",
      " [ 26  33 669]]\n",
      "              precision    recall  f1-score   support\n",
      "\n",
      "           0       0.69      0.58      0.63       196\n",
      "           1       0.58      0.42      0.49       196\n",
      "           2       0.82      0.92      0.87       728\n",
      "\n",
      "    accuracy                           0.77      1120\n",
      "   macro avg       0.70      0.64      0.66      1120\n",
      "weighted avg       0.76      0.77      0.76      1120\n",
      "\n"
     ]
    }
   ],
   "source": [
    "# laptop_test confusion\n",
    "restaurant_test_input_ids = test_input_ids[638:]\n",
    "restaurant_test_label = test_label[638:]\n",
    "predictions_res_test = model.predict(restaurant_test_input_ids)\n",
    "predictions_res_test = np.argmax(predictions_res_test, axis=1) # axis = 1是取行的最大值的索引，0是列的最大值的索引\n",
    "print(accuracy_score(restaurant_test_label, predictions_res_test))\n",
    "print(confusion_matrix(restaurant_test_label, predictions_res_test))\n",
    "print(classification_report(restaurant_test_label, predictions_res_test))"
   ]
  },
  {
   "cell_type": "code",
   "execution_count": null,
   "metadata": {},
   "outputs": [],
   "source": []
  }
 ],
 "metadata": {
  "kernelspec": {
   "display_name": "Python 3",
   "language": "python",
   "name": "python3"
  },
  "language_info": {
   "codemirror_mode": {
    "name": "ipython",
    "version": 3
   },
   "file_extension": ".py",
   "mimetype": "text/x-python",
   "name": "python",
   "nbconvert_exporter": "python",
   "pygments_lexer": "ipython3",
   "version": "3.7.4"
  }
 },
 "nbformat": 4,
 "nbformat_minor": 4
}
